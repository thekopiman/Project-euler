{
 "cells": [
  {
   "cell_type": "code",
   "execution_count": 1,
   "metadata": {},
   "outputs": [],
   "source": [
    "import time\n",
    "import numpy as np"
   ]
  },
  {
   "cell_type": "code",
   "execution_count": 2,
   "metadata": {},
   "outputs": [],
   "source": [
    "def bouncy(value):\n",
    "    '''\n",
    "    Returns True or False\n",
    "    '''\n",
    "    previous_value = int(str(value)[0])\n",
    "    \n",
    "    increment_checker = True\n",
    "    decrement_checker = True\n",
    "\n",
    "    for digit in str(value):\n",
    "       if int(digit) >= previous_value:\n",
    "           previous_value = int(digit)\n",
    "       else: \n",
    "           increment_checker = False\n",
    "           break\n",
    "    for digit in str(value):\n",
    "       if int(digit) <= previous_value:\n",
    "           previous_value = int(digit)\n",
    "       else: \n",
    "           decrement_checker = False\n",
    "           break\n",
    "    \n",
    "    if not increment_checker and not decrement_checker:\n",
    "        return True\n",
    "    else: return False"
   ]
  },
  {
   "cell_type": "code",
   "execution_count": 3,
   "metadata": {},
   "outputs": [
    {
     "name": "stdout",
     "output_type": "stream",
     "text": [
      "269\n"
     ]
    }
   ],
   "source": [
    "bouncy_count = 0\n",
    "total_count = 100 #Values below and inclusive of 100\n",
    "\n",
    "while bouncy_count/total_count != 0.99:\n",
    "    total_count += 1\n",
    "    if bouncy(total_count):\n",
    "        bouncy_count += 1\n",
    "\n",
    "print(total_count)"
   ]
  },
  {
   "cell_type": "code",
   "execution_count": null,
   "metadata": {},
   "outputs": [],
   "source": []
  }
 ],
 "metadata": {
  "kernelspec": {
   "display_name": "Python 3",
   "language": "python",
   "name": "python3"
  },
  "language_info": {
   "codemirror_mode": {
    "name": "ipython",
    "version": 3
   },
   "file_extension": ".py",
   "mimetype": "text/x-python",
   "name": "python",
   "nbconvert_exporter": "python",
   "pygments_lexer": "ipython3",
   "version": "3.8.1"
  }
 },
 "nbformat": 4,
 "nbformat_minor": 4
}
