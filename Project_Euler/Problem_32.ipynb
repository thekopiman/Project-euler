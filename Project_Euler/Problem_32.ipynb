{
 "cells": [
  {
   "cell_type": "code",
   "execution_count": 1,
   "metadata": {},
   "outputs": [],
   "source": [
    "import itertools\n",
    "import math\n",
    "import numpy as np\n",
    "\n",
    "arrays = np.array(list(itertools.permutations(range(10))))"
   ]
  },
  {
   "cell_type": "code",
   "execution_count": 2,
   "metadata": {},
   "outputs": [
    {
     "name": "stdout",
     "output_type": "stream",
     "text": [
      "[[0 1 2 3 4 5 6 7 8 9]\n",
      " [0 1 2 3 4 5 6 7 9 8]\n",
      " [0 1 2 3 4 5 6 8 7 9]\n",
      " [0 1 2 3 4 5 6 8 9 7]\n",
      " [0 1 2 3 4 5 6 9 7 8]\n",
      " [0 1 2 3 4 5 6 9 8 7]\n",
      " [0 1 2 3 4 5 7 6 8 9]\n",
      " [0 1 2 3 4 5 7 6 9 8]\n",
      " [0 1 2 3 4 5 7 8 6 9]\n",
      " [0 1 2 3 4 5 7 8 9 6]]\n"
     ]
    }
   ],
   "source": [
    "print(arrays[:10])"
   ]
  },
  {
   "cell_type": "code",
   "execution_count": null,
   "metadata": {},
   "outputs": [],
   "source": []
  }
 ],
 "metadata": {
  "kernelspec": {
   "display_name": "Python 3",
   "language": "python",
   "name": "python3"
  },
  "language_info": {
   "codemirror_mode": {
    "name": "ipython",
    "version": 3
   },
   "file_extension": ".py",
   "mimetype": "text/x-python",
   "name": "python",
   "nbconvert_exporter": "python",
   "pygments_lexer": "ipython3",
   "version": "3.8.1"
  }
 },
 "nbformat": 4,
 "nbformat_minor": 4
}
