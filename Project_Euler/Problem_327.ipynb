{
 "cells": [
  {
   "cell_type": "code",
   "execution_count": 20,
   "metadata": {},
   "outputs": [],
   "source": [
    "import numpy as np"
   ]
  },
  {
   "cell_type": "code",
   "execution_count": 21,
   "metadata": {},
   "outputs": [],
   "source": [
    "current_card_count = 0\n",
    "max_card_count = 3\n",
    "number_of_rooms = 3\n",
    "current_position = 0\n",
    "cards_used = 0"
   ]
  },
  {
   "cell_type": "code",
   "execution_count": 22,
   "metadata": {},
   "outputs": [
    {
     "data": {
      "text/plain": [
       "array([-1,  0,  0,  0, -1])"
      ]
     },
     "execution_count": 22,
     "metadata": {},
     "output_type": "execute_result"
    }
   ],
   "source": [
    "rooms = np.zeros([number_of_rooms + 2], dtype=np.int32)\n",
    "rooms[0] = -1\n",
    "rooms[rooms.shape[0]-1] = -1\n",
    "rooms"
   ]
  },
  {
   "cell_type": "code",
   "execution_count": 23,
   "metadata": {},
   "outputs": [],
   "source": [
    "def room_card_changes(cards_deposited = 0):\n",
    "    global current_card_count, rooms, cards_used, current_position\n",
    "    \n",
    "    if rooms[current_position] == -1:\n",
    "        current_card_count = max_card_count\n",
    "        cards_used += max_card_count - current_card_count\n",
    "    else:\n",
    "        rooms[current_position] += cards_deposited\n",
    "        current_card_count -= cards_deposited"
   ]
  },
  {
   "cell_type": "code",
   "execution_count": 24,
   "metadata": {},
   "outputs": [],
   "source": [
    "def changing_rooms(direction):\n",
    "    global current_position\n",
    "    if direction.upper() == 'FORWARD':\n",
    "        current_position += 1\n",
    "        current_card_count -= 1\n",
    "    if direction.upper() == 'BACK':\n",
    "        current_position -= 1\n",
    "        current_card_count -= 1"
   ]
  }
 ],
 "metadata": {
  "kernelspec": {
   "display_name": "Python 3",
   "language": "python",
   "name": "python3"
  },
  "language_info": {
   "codemirror_mode": {
    "name": "ipython",
    "version": 3
   },
   "file_extension": ".py",
   "mimetype": "text/x-python",
   "name": "python",
   "nbconvert_exporter": "python",
   "pygments_lexer": "ipython3",
   "version": "3.8.1"
  }
 },
 "nbformat": 4,
 "nbformat_minor": 4
}
