{
 "cells": [
  {
   "cell_type": "code",
   "execution_count": 52,
   "metadata": {},
   "outputs": [],
   "source": [
    "def letter_dict_counter(word):\n",
    "    empty_dict = {}\n",
    "    lst_of_letters = sorted(set(word))\n",
    "    for letter in lst_of_letters:\n",
    "        empty_dict[letter] = word.count(letter)\n",
    "    return empty_dict\n",
    "\n",
    "starting_word = letter_dict_counter('thereisasyetinsufficientdataforameaningfulanswer')"
   ]
  },
  {
   "cell_type": "code",
   "execution_count": 53,
   "metadata": {
    "scrolled": true
   },
   "outputs": [
    {
     "data": {
      "text/plain": [
       "{'a': 6,\n",
       " 'c': 1,\n",
       " 'd': 1,\n",
       " 'e': 6,\n",
       " 'f': 4,\n",
       " 'g': 1,\n",
       " 'h': 1,\n",
       " 'i': 5,\n",
       " 'l': 1,\n",
       " 'm': 1,\n",
       " 'n': 5,\n",
       " 'o': 1,\n",
       " 'r': 3,\n",
       " 's': 4,\n",
       " 't': 4,\n",
       " 'u': 2,\n",
       " 'w': 1,\n",
       " 'y': 1}"
      ]
     },
     "execution_count": 53,
     "metadata": {},
     "output_type": "execute_result"
    }
   ],
   "source": [
    "starting_word"
   ]
  },
  {
   "cell_type": "code",
   "execution_count": 54,
   "metadata": {},
   "outputs": [],
   "source": [
    "starting_word2 = letter_dict_counter('afgchtka')"
   ]
  },
  {
   "cell_type": "code",
   "execution_count": 55,
   "metadata": {},
   "outputs": [
    {
     "data": {
      "text/plain": [
       "{'a': 2, 'c': 1, 'f': 1, 'g': 1, 'h': 1, 'k': 1, 't': 1}"
      ]
     },
     "execution_count": 55,
     "metadata": {},
     "output_type": "execute_result"
    }
   ],
   "source": [
    "starting_word2"
   ]
  },
  {
   "cell_type": "code",
   "execution_count": 59,
   "metadata": {},
   "outputs": [],
   "source": [
    "from math import *\n",
    "\n",
    "def permutation_value(n,r):\n",
    "    return factorial(n)/factorial(n-r)\n",
    "\n",
    "number_of_ways = permutation_value(7,4)/factorial(2)"
   ]
  },
  {
   "cell_type": "code",
   "execution_count": 61,
   "metadata": {},
   "outputs": [
    {
     "data": {
      "text/plain": [
       "420.0"
      ]
     },
     "execution_count": 61,
     "metadata": {},
     "output_type": "execute_result"
    }
   ],
   "source": [
    "number_of_ways"
   ]
  },
  {
   "cell_type": "code",
   "execution_count": 67,
   "metadata": {},
   "outputs": [],
   "source": [
    "def cyclical_factorial(lst):\n",
    "    start = 1\n",
    "    for x in list(lst):\n",
    "        start *= factorial(x)\n",
    "    return start"
   ]
  },
  {
   "cell_type": "code",
   "execution_count": 70,
   "metadata": {},
   "outputs": [
    {
     "data": {
      "text/plain": [
       "18"
      ]
     },
     "execution_count": 70,
     "metadata": {},
     "output_type": "execute_result"
    }
   ],
   "source": [
    "len(starting_word)"
   ]
  },
  {
   "cell_type": "code",
   "execution_count": null,
   "metadata": {},
   "outputs": [],
   "source": [
    "hello = [1 if x != 0 else 0 for x in]"
   ]
  }
 ],
 "metadata": {
  "kernelspec": {
   "display_name": "Python 3",
   "language": "python",
   "name": "python3"
  },
  "language_info": {
   "codemirror_mode": {
    "name": "ipython",
    "version": 3
   },
   "file_extension": ".py",
   "mimetype": "text/x-python",
   "name": "python",
   "nbconvert_exporter": "python",
   "pygments_lexer": "ipython3",
   "version": "3.8.1"
  }
 },
 "nbformat": 4,
 "nbformat_minor": 4
}
