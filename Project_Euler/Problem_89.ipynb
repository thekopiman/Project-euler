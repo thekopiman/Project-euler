{
 "cells": [
  {
   "cell_type": "code",
   "execution_count": 158,
   "metadata": {},
   "outputs": [],
   "source": [
    "import pandas as pd\n",
    "import numpy as np\n",
    "import math\n",
    "roman_numbers_dict = {'I' : 1, 'V' : 5, \"X\" :10, \"L\":50, \"C\" : 100, \"D\":500, \"M\":1000}"
   ]
  },
  {
   "cell_type": "code",
   "execution_count": 159,
   "metadata": {},
   "outputs": [],
   "source": [
    "with open(\"p089_roman.txt\", \"r\") as r:\n",
    "    rlines = np.array([(x,len(x))for x in r.read().split('\\n')],dtype=[('Roman_Numerals', '<U16'),('Length', 'int32')])\n"
   ]
  },
  {
   "cell_type": "code",
   "execution_count": 160,
   "metadata": {},
   "outputs": [
    {
     "data": {
      "text/plain": [
       "array([('MMMMDCLXXII', 11), ('MMDCCCLXXXIII', 13), ('MMMDLXVIIII', 11),\n",
       "       ('MMMMDXCV',  8), ('DCCCLXXII',  9), ('MMCCCVI',  7),\n",
       "       ('MMMCDLXXXVII', 12), ('MMMMCCXXI',  9), ('MMMCCXX',  7),\n",
       "       ('MMMMDCCCLXXIII', 14)],\n",
       "      dtype=[('Roman_Numerals', '<U16'), ('Length', '<i4')])"
      ]
     },
     "execution_count": 160,
     "metadata": {},
     "output_type": "execute_result"
    }
   ],
   "source": [
    "rlines[:10]"
   ]
  },
  {
   "cell_type": "code",
   "execution_count": 161,
   "metadata": {},
   "outputs": [],
   "source": [
    "class RomanNumerals():\n",
    "    def __init__(self, roman_numeral = None, value = None):\n",
    "        if value != None:\n",
    "            self.value = value\n",
    "        if roman_numeral != None:\n",
    "            self.value = self.roman_to_value(roman_numeral)\n",
    "        \n",
    "        self.roman = self.value_to_roman(self.value)\n",
    "        \n",
    "    def roman_to_value(self, roman_numeral):\n",
    "        values = np.array([roman_numbers_dict[x] for x in roman_numeral])\n",
    "        \n",
    "        if np.array(values == np.sort(values)[::-1]).all():\n",
    "            summation = np.sum(values)\n",
    "        else: \n",
    "            summation = 0\n",
    "            for i in range(values.shape[0]):\n",
    "                try:\n",
    "                    if values[i+1] <= values[i]:\n",
    "                         summation += values[i]\n",
    "                    else: summation -= values[i]\n",
    "                except IndexError: \n",
    "                     summation += values[i]\n",
    "            \n",
    "        return summation\n",
    "    def value_to_roman(self,value):\n",
    "        empty_list = []\n",
    "        current_value = value\n",
    "        for x in list(roman_numbers_dict.values())[::-1]:\n",
    "            empty_list.append(current_value//x)\n",
    "            current_value -= empty_list[-1]*x\n",
    "        not_minimal = ''.join([str(list(roman_numbers_dict.keys())[::-1][x])*empty_list[x] for x in range(len(empty_list))])\n",
    "        minimal = not_minimal.replace('DCCCC','CM').replace('CCCC', 'CD').replace('LXXXX','XC').replace('XXXX','XL').replace('VIIII','IX').replace('IIII','IV')\n",
    "\n",
    "        return minimal"
   ]
  },
  {
   "cell_type": "code",
   "execution_count": 162,
   "metadata": {
    "scrolled": false
   },
   "outputs": [],
   "source": [
    "# db = RomanNumerals(roman_numeral='MMMMDXCV')\n",
    "# print(db.value)\n",
    "# print(db.roman)"
   ]
  },
  {
   "cell_type": "code",
   "execution_count": 163,
   "metadata": {},
   "outputs": [],
   "source": [
    "for index in range(rlines.shape[0]):\n",
    "    rlines[index] = (rlines[index][0],rlines[index][1] - len(RomanNumerals(rlines[index][0]).roman))\n"
   ]
  },
  {
   "cell_type": "code",
   "execution_count": 164,
   "metadata": {},
   "outputs": [
    {
     "data": {
      "text/plain": [
       "array([('MMMMDCLXXII', 0), ('MMDCCCLXXXIII', 0), ('MMMDLXVIIII', 3),\n",
       "       ('MMMMDXCV', 0), ('DCCCLXXII', 0), ('MMCCCVI', 0),\n",
       "       ('MMMCDLXXXVII', 0), ('MMMMCCXXI', 0), ('MMMCCXX', 0),\n",
       "       ('MMMMDCCCLXXIII', 0)],\n",
       "      dtype=[('Roman_Numerals', '<U16'), ('Length', '<i4')])"
      ]
     },
     "execution_count": 164,
     "metadata": {},
     "output_type": "execute_result"
    }
   ],
   "source": [
    "rlines[:10]"
   ]
  },
  {
   "cell_type": "code",
   "execution_count": 165,
   "metadata": {},
   "outputs": [
    {
     "data": {
      "text/plain": [
       "743"
      ]
     },
     "execution_count": 165,
     "metadata": {},
     "output_type": "execute_result"
    }
   ],
   "source": [
    "counter = 0\n",
    "for line in rlines:\n",
    "    counter += line[1]\n",
    "counter"
   ]
  },
  {
   "cell_type": "code",
   "execution_count": null,
   "metadata": {},
   "outputs": [],
   "source": []
  }
 ],
 "metadata": {
  "kernelspec": {
   "display_name": "Python 3",
   "language": "python",
   "name": "python3"
  },
  "language_info": {
   "codemirror_mode": {
    "name": "ipython",
    "version": 3
   },
   "file_extension": ".py",
   "mimetype": "text/x-python",
   "name": "python",
   "nbconvert_exporter": "python",
   "pygments_lexer": "ipython3",
   "version": "3.8.1"
  }
 },
 "nbformat": 4,
 "nbformat_minor": 4
}
